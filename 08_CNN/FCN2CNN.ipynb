{
  "cells": [
    {
      "cell_type": "code",
      "execution_count": null,
      "metadata": {
        "id": "FaadnhbpCcsh"
      },
      "outputs": [],
      "source": [
        "import torch\n",
        "import torch.nn as nn\n",
        "import torch.nn.functional as F\n",
        "import torch.optim as optim\n",
        "from torchvision import datasets, transforms\n",
        "import torch.optim as optim\n",
        "\n",
        "import matplotlib.pyplot as plt\n",
        "import numpy as np"
      ]
    },
    {
      "cell_type": "markdown",
      "metadata": {
        "id": "Ly7lrx-gCuLy"
      },
      "source": [
        "# Xarxes convolucionals\n",
        "\n",
        "L'objectiu d'avui és la creació d'una xarxa convolucional que obtengui com a mínim igual resultat que la xarxa completament connectada implementada la setmana anterior però amb menys paràmetres. Per poder realitzar comparacions directes emprarem el mateix conjunt de dades.\n",
        "\n",
        "Com objectius secundaris tenim:\n",
        "\n",
        "1. Aprenentatge de noves estratègies per evitar `overfitting`.\n",
        "2. Us d'un nou optimitzador.\n",
        "3. Visualització dels resultats dels filtres convolucionals."
      ]
    },
    {
      "cell_type": "code",
      "execution_count": null,
      "metadata": {
        "id": "PwSoPhjXCvV9"
      },
      "outputs": [],
      "source": [
        "etiquetes = {\n",
        "    0: \"T-Shirt\",\n",
        "    1: \"Trouser\",\n",
        "    2: \"Pullover\",\n",
        "    3: \"Dress\",\n",
        "    4: \"Coat\",\n",
        "    5: \"Sandal\",\n",
        "    6: \"Shirt\",\n",
        "    7: \"Sneaker\",\n",
        "    8: \"Bag\",\n",
        "    9: \"Ankle Boot\",\n",
        "}\n",
        "\n",
        "train_batch_size = 64\n",
        "test_batch_size = 100\n",
        "\n",
        "# Definim una seqüència (composició) de transformacions \n",
        "transform=transforms.Compose([\n",
        "    transforms.ToTensor(),\n",
        "    transforms.Normalize((0.1307,), (0.3081,)) # mitjana, desviacio tipica\n",
        "    ])\n",
        "\n",
        "# Descarregam un dataset ja integrat en la llibreria Pytorch\n",
        "train = datasets.FashionMNIST('../data', train=True, download=True, transform=transform)\n",
        "test = datasets.FashionMNIST('../data', train=False, transform=transform)\n",
        "# Transformam les dades en l'estructura necessaria per entrenar una xarxa\n",
        "train_loader = torch.utils.data.DataLoader(train, train_batch_size)\n",
        "test_loader = torch.utils.data.DataLoader(test, test_batch_size)"
      ]
    },
    {
      "cell_type": "markdown",
      "metadata": {
        "id": "s8i4Mg8KuD3r"
      },
      "source": [
        "## Definició de la xarxa\n",
        "\n",
        "### Feina a fer\n",
        "\n",
        "1. Definir la primera xarxa convolucional. A continuació teniu una llista de les capes que podeu emprar:\n",
        "\n",
        "\n",
        "- `Conv2d`: Capa convolucional en 2 dimensions. Com a paràmetres principals trobarem:\n",
        "\n",
        "  - in_channels: canals d'entrada.\n",
        "  - out_channels : canals de sortida (nombre de filtres).\n",
        "  - kernel_size: mida del filtre.\n",
        "  - stride: desplaçament del filtre. Típicament pren per valor 1.\n",
        "  - padding: ampliació de la imatge per evitar pèrdua de dimensionalitat.\n",
        "\n",
        "- `MaxPool2d`: Capa de max pooling. Aquesta capa no té paràmetres entrenables. Però si:\n",
        "\n",
        "  - kernel_size: Mida del filtre del qual es seleccionarà el màxim.\n",
        "  - stride: desplaçament del filtre.\n",
        "\n",
        "- `Dropout`: Dropout és un mètode de regularització (evitar `overfitting`) que aproxima l'entrenament d'un gran nombre de xarxes neuronals amb diferents arquitectures en paral·lel. Durant l'entrenament, una part de les sortides de la capa s'ignoren aleatòriament o s'abandonen. Això té l'efecte de fer que la capa sembli i es tracti com una capa amb un nombre diferent de nodes i connectivitat a la capa anterior. En efecte, cada actualització d'una capa durant l'entrenament es realitza amb una vista diferent de la capa configurada. Hem d'especificar quines capes tenen `dropout` de manera individual. Té un únic paràmetre amb valor per defecte $p=0.5$ Els valors típics d'aquest paràmetre varien entre $0.5$ i $0.8$.\n",
        "\n",
        "\n",
        "- `Linear`\n",
        "\n",
        "- `ReLU`\n",
        "\n",
        "\n",
        "2. Per posibilitar la visualització de les imatges passades per les capes convolucionals farem que funció `forward`tengui diverses sortides (diferents valors de `return`) un per cadda capa convolucional de la xarxa."
      ]
    },
    {
      "cell_type": "code",
      "execution_count": null,
      "metadata": {
        "id": "IQvdRDtTHdRy"
      },
      "outputs": [],
      "source": [
        "class Net(nn.Module):\n",
        "    def __init__(self):\n",
        "        super(Net, self).__init__()\n",
        "        #= nn.Conv2d(in_channels= ¿?, out_channels=¿?, kernel_size=¿?, stride=¿?, padding=¿?)\n",
        "        # = nn.MaxPool2d(kernel_size=¿?, stride=2)\n",
        "\n",
        "\n",
        "    def forward(self, x):\n",
        "        # TODO\n",
        "        output = F.log_softmax(x, dim=1)\n",
        "        return output"
      ]
    },
    {
      "cell_type": "markdown",
      "metadata": {
        "id": "A6ISOL_hCk7g"
      },
      "source": [
        "## Entrenament\n",
        "\n",
        "Això no varia massa de la setmana anterior\n",
        "\n",
        "### Feina a fer\n",
        "\n",
        "1. Modificar la sortida de la xarxa, ara retorna diversos valors, encara que aquí només us interessa un."
      ]
    },
    {
      "cell_type": "code",
      "execution_count": null,
      "metadata": {
        "id": "h9OLtpPzClch"
      },
      "outputs": [],
      "source": [
        "def train(model, device, train_loader, optimizer, epoch, log_interval=100, verbose=True):\n",
        "    \n",
        "    model.train()\n",
        "\n",
        "    loss_v = 0\n",
        "\n",
        "    for batch_idx, (data, target) in enumerate(train_loader):\n",
        "    \n",
        "        data, target = data.to(device), target.to(device)\n",
        "        optimizer.zero_grad()\n",
        "        output = model(data)\n",
        "        loss = F.cross_entropy(output, target, reduction='sum') \n",
        "        loss.backward()\n",
        "        optimizer.step()\n",
        "        if batch_idx % log_interval == 0 and verbose:\n",
        "            print('Train Epoch: {} [{}/{} ({:.0f}%)]\\tLoss: {:.6f}, Average: {:.6f}'.format(\n",
        "                epoch, batch_idx * len(data), len(train_loader.dataset),\n",
        "                100. * batch_idx / len(train_loader), loss.item(), loss.item()/ len(data)))\n",
        "        loss_v += loss.item()\n",
        "\n",
        "    loss_v /= len(train_loader.dataset)\n",
        "    print('\\nTrain set: Average loss: {:.4f}\\n'.format(loss_v))\n",
        " \n",
        "    return loss_v\n",
        "\n",
        "\n",
        "def test(model, device, test_loader):\n",
        "    model.eval()\n",
        "    test_loss = 0\n",
        "    correct = 0\n",
        "    with torch.no_grad():\n",
        "        for data, target in test_loader:\n",
        "            data, target = data.to(device), target.to(device)\n",
        "            output = model(data)\n",
        "            test_loss += F.cross_entropy(output, target, reduction='sum') \n",
        "            pred = output.argmax(dim=1, keepdim=True)  # get the index of the max probability\n",
        "            correct += pred.eq(target.view_as(pred)).sum().item()\n",
        " \n",
        "  \n",
        "    test_loss /= len(test_loader.dataset)\n",
        "\n",
        "    print('\\nTest set: Average loss: {:.4f}, Accuracy: {}/{} ({:.0f}%)\\n'.format(\n",
        "        test_loss, correct, len(test_loader.dataset),\n",
        "        100. * correct / len(test_loader.dataset)))\n",
        "    \n",
        "    return test_loss"
      ]
    },
    {
      "cell_type": "markdown",
      "metadata": {
        "id": "RBGKL43vsUnD"
      },
      "source": [
        "A continuació definim els paràmetres d'entrenament i el bucle principal:\n",
        "\n",
        "### Adam\n",
        "\n",
        "Aquesta setmana introduirem un nou algorisme d'optimització anomenat `Adam`. Fins ara hem emprat el descens del gradient (`SGD`). \n",
        "\n",
        "`Adam()` és un algorisme d'optimització amplament emprat, tal com el descens del gradient, és iteratiu. A la literatura trobam arguments que indiquen que, tot i que Adam convergeix més ràpidament, SGD  generalitza millor que Adam i, per tant, resulta en un rendiment final millor. \n",
        "\n",
        "[Més info](https://medium.com/geekculture/a-2021-guide-to-improving-cnns-optimizers-adam-vs-sgd-495848ac6008)\n",
        "\n",
        "\n",
        "### Feina a fer:\n",
        "1. Mostrar el nombre de paràmetres de la xarxa (també a la xarxa de la setmana passada)\n",
        "```\n",
        "pytorch_total_params = sum(p.numel() for p in model.parameters() if p.requires_grad)\n",
        "```\n",
        "2. Dibuixar els gràfics de la funció de pèrdua amb les dues funcions d'optimització que coneixem."
      ]
    },
    {
      "cell_type": "code",
      "execution_count": null,
      "metadata": {
        "id": "cNIBWqAwsVSb"
      },
      "outputs": [],
      "source": [
        "use_cuda = False\n",
        "torch.manual_seed(33)\n",
        "\n",
        "if use_cuda:\n",
        "    device = torch.device(\"cuda\")\n",
        "else:\n",
        "    device = torch.device(\"cpu\")\n",
        "\n",
        "epochs = 15\n",
        "lr =0.00001\n",
        "\n",
        "model = Net().to(device)\n",
        "\n",
        "\n",
        "optimizer = #TODO\n",
        "\n",
        "# Guardam el valor de peèrdua mig de cada iteració (època)\n",
        "train_l = np.zeros((epochs))\n",
        "test_l = np.zeros((epochs))\n",
        "\n",
        "# Bucle d'entrenament\n",
        "for epoch in range(0, epochs):\n",
        "    train_l[epoch] = train(model, device, train_loader, optimizer, epoch)\n",
        "    test_l[epoch]  = test(model, device, test_loader)\n"
      ]
    },
    {
      "cell_type": "markdown",
      "metadata": {
        "id": "wjeMWK8cJkqN"
      },
      "source": [
        "## Resultats\n",
        "\n",
        "Aquí visualitzarem els resultats d'aprenentatge de la xarxa. \n",
        "\n",
        "### Feina a fer:\n",
        "\n",
        "1. Fer una predicció del primer _batch_ del conjunt de _test_.\n",
        "2. Visualitzar una imatge del _batch_ i posar la predicció i el groun truth com a títol de la imatge.\n",
        "3. Visualitzar el resultat de la mateixa imatge passada per tots els filtres de cada convolució de la vostra xarxa.\n",
        "4. **Extra**: Fer la matriu de confusió de les 10 classes per poder entendre el que no estau fent bé (la xarxa no està fent bé).\n",
        "\n",
        "A tenir en compte:\n",
        "\n",
        "#### Subplots\n",
        "\n",
        "Per fer graelles d'imatges podeu empar la funció `subplots`. Més [informació](https://matplotlib.org/stable/api/_as_gen/matplotlib.pyplot.subplots.html)\n",
        "\n",
        "#### Device\n",
        "\n",
        "Si heu emprat _GPU_ per accelerar el procés d'entrenament, els resultats que obtenim de la xarxa també seràn a la _GPU_. **Pytorch** proporciona la funció `cpu()` que retorna una còpia d'aquest objecte a la memòria de la CPU.\n",
        "\n",
        "#### Detach\n",
        "Per poder operar amb els resultats de la predicció emprarem la funció `detach` que retorna un nou Tensor \"separat\" del graf (xarxa) en curs.\n",
        "\n",
        "Per tant per transformar el tensor que retorna la xarxa en un array de la lliberia _Numpy_ caldria fer el següent:\n",
        "\n",
        "  ```\n",
        "  resultat_np = resultat.detach().numpy()\n",
        "  ```\n",
        "Si a més hem executat l'entrenament en _GPU_:\n",
        "  ```\n",
        "  resultat_np = resultat.cpu().detach().numpy()\n",
        "  ```\n"
      ]
    },
    {
      "cell_type": "code",
      "execution_count": null,
      "metadata": {
        "id": "SYKUppOc_4JE"
      },
      "outputs": [],
      "source": [
        "def generador(loader):\n",
        "  for data, target in test_loader:\n",
        "    yield data, target\n",
        "\n",
        "\n",
        "#TODO "
      ]
    }
  ],
  "metadata": {
    "accelerator": "GPU",
    "colab": {
      "provenance": []
    },
    "gpuClass": "standard",
    "kernelspec": {
      "display_name": "Python 3",
      "name": "python3"
    },
    "language_info": {
      "name": "python"
    }
  },
  "nbformat": 4,
  "nbformat_minor": 0
}