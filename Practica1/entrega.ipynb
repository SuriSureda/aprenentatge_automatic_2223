{
 "cells": [
  {
   "cell_type": "code",
   "execution_count": 12,
   "metadata": {},
   "outputs": [
    {
     "data": {
      "text/plain": [
       "array([{'word': 'com', 'lan': 1}, {'word': 'seva', 'lan': 1},\n",
       "       {'word': 'que', 'lan': 1}, ..., {'word': 'anger', 'lan': 0},\n",
       "       {'word': 'claim', 'lan': 0}, {'word': 'continent', 'lan': 0}],\n",
       "      dtype=object)"
      ]
     },
     "execution_count": 12,
     "metadata": {},
     "output_type": "execute_result"
    }
   ],
   "source": [
    "import pandas as pd\n",
    "import numpy as np\n",
    "\n",
    "languages = {\n",
    "\t'angles' : 0,\n",
    "\t'catala' : 1\n",
    "}\n",
    "\n",
    "data = pd.read_csv(\"data/data.csv\", delim_whitespace=True)\n",
    "data = data.drop(data.columns[[0]], axis = 1)\n",
    "\n",
    "words = np.array([])\n",
    "\n",
    "for column in data:\n",
    "\twords = np.append(words, data[column].apply(lambda x :  {'word':x, 'lan' :languages[column]}))\n",
    "\n",
    "words"
   ]
  },
  {
   "cell_type": "markdown",
   "metadata": {},
   "source": [
    "## Definició de característiques\n",
    "\n",
    "* Conté accents\n",
    "* Conté la lletra \"y\"\n",
    "* Conté la lletra \"w\"\n",
    "* Conté el diagraf \"sh\"\n",
    "* Conté el diagraf \"ph\""
   ]
  },
  {
   "cell_type": "code",
   "execution_count": 11,
   "metadata": {},
   "outputs": [
    {
     "name": "stdout",
     "output_type": "stream",
     "text": [
      "[{'word': 'off', 'lan': 0} {'word': 'idioma', 'lan': 1}\n",
      " {'word': 'favor', 'lan': 0} ... {'word': 'paint', 'lan': 0}\n",
      " {'word': 'lift', 'lan': 0} {'word': 'naturalesa', 'lan': 1}]\n"
     ]
    },
    {
     "ename": "AttributeError",
     "evalue": "'numpy.ndarray' object has no attribute 'word'",
     "output_type": "error",
     "traceback": [
      "\u001b[0;31m---------------------------------------------------------------------------\u001b[0m",
      "\u001b[0;31mAttributeError\u001b[0m                            Traceback (most recent call last)",
      "Cell \u001b[0;32mIn [11], line 12\u001b[0m\n\u001b[1;32m      8\u001b[0m \t\u001b[39mreturn\u001b[39;00m \n\u001b[1;32m     10\u001b[0m applyFeatures \u001b[39m=\u001b[39m \u001b[39mlambda\u001b[39;00m x : features(x)\n\u001b[0;32m---> 12\u001b[0m applyFeatures(words)\n",
      "Cell \u001b[0;32mIn [11], line 10\u001b[0m, in \u001b[0;36m<lambda>\u001b[0;34m(x)\u001b[0m\n\u001b[1;32m      6\u001b[0m \thas_accent \u001b[39m=\u001b[39m  \u001b[39m1\u001b[39m \u001b[39mif\u001b[39;00m re\u001b[39m.\u001b[39msearch(\u001b[39m\"\u001b[39m\u001b[39m[àèìòùáéíóú]\u001b[39m\u001b[39m\"\u001b[39m, word) \u001b[39melse\u001b[39;00m \u001b[39m0\u001b[39m\n\u001b[1;32m      8\u001b[0m \t\u001b[39mreturn\u001b[39;00m \n\u001b[0;32m---> 10\u001b[0m applyFeatures \u001b[39m=\u001b[39m \u001b[39mlambda\u001b[39;00m x : features(x)\n\u001b[1;32m     12\u001b[0m applyFeatures(words)\n",
      "Cell \u001b[0;32mIn [11], line 5\u001b[0m, in \u001b[0;36mfeatures\u001b[0;34m(wordData)\u001b[0m\n\u001b[1;32m      3\u001b[0m \u001b[39mdef\u001b[39;00m \u001b[39mfeatures\u001b[39m(wordData) :\n\u001b[1;32m      4\u001b[0m \t\u001b[39mprint\u001b[39m(wordData)\n\u001b[0;32m----> 5\u001b[0m \tword \u001b[39m=\u001b[39m wordData\u001b[39m.\u001b[39;49mword\n\u001b[1;32m      6\u001b[0m \thas_accent \u001b[39m=\u001b[39m  \u001b[39m1\u001b[39m \u001b[39mif\u001b[39;00m re\u001b[39m.\u001b[39msearch(\u001b[39m\"\u001b[39m\u001b[39m[àèìòùáéíóú]\u001b[39m\u001b[39m\"\u001b[39m, word) \u001b[39melse\u001b[39;00m \u001b[39m0\u001b[39m\n\u001b[1;32m      8\u001b[0m \t\u001b[39mreturn\u001b[39;00m\n",
      "\u001b[0;31mAttributeError\u001b[0m: 'numpy.ndarray' object has no attribute 'word'"
     ]
    }
   ],
   "source": [
    "import re\n",
    "\n",
    "def features(wordData) :\n",
    "\tprint(wordData)\n",
    "\tword = wordData.word\n",
    "\thas_accent =  1 if re.search(\"[àèìòùáéíóú]\", word) else 0\n",
    "\t\n",
    "\treturn \n",
    "\n",
    "applyFeatures = lambda x : features(x)\n",
    "\n",
    "applyFeatures(words)"
   ]
  }
 ],
 "metadata": {
  "kernelspec": {
   "display_name": "Python 3.9.14 64-bit",
   "language": "python",
   "name": "python3"
  },
  "language_info": {
   "codemirror_mode": {
    "name": "ipython",
    "version": 3
   },
   "file_extension": ".py",
   "mimetype": "text/x-python",
   "name": "python",
   "nbconvert_exporter": "python",
   "pygments_lexer": "ipython3",
   "version": "3.9.14"
  },
  "orig_nbformat": 4,
  "vscode": {
   "interpreter": {
    "hash": "949777d72b0d2535278d3dc13498b2535136f6dfe0678499012e853ee9abcab1"
   }
  }
 },
 "nbformat": 4,
 "nbformat_minor": 2
}
