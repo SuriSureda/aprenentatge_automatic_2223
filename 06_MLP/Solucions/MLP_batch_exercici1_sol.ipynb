{
  "nbformat": 4,
  "nbformat_minor": 0,
  "metadata": {
    "colab": {
      "provenance": [],
      "collapsed_sections": []
    },
    "kernelspec": {
      "name": "python3",
      "display_name": "Python 3"
    },
    "language_info": {
      "name": "python"
    }
  },
  "cells": [
    {
      "cell_type": "code",
      "execution_count": 1,
      "metadata": {
        "id": "XxdTVpgVQ6Jp"
      },
      "outputs": [],
      "source": [
        "# -*- coding: utf-8 -*-\n",
        "import torch\n",
        "import math\n",
        "import torch.optim as optim\n",
        "import numpy as np\n",
        "import matplotlib.pyplot as plt\n",
        "from sklearn.model_selection import train_test_split\n",
        "\n",
        "\n",
        "from sklearn.datasets import make_friedman1"
      ]
    },
    {
      "cell_type": "markdown",
      "source": [
        "# Exercici de Regressió\n",
        "\n",
        "\n",
        "## Generació de les dades\n",
        "Emprarem un conjunt de dades que s'autogenera a partir de certs paràmetres, la variable a predir es correspon amb la següent formula:\n",
        "\n",
        "`y(X) = 10 * sin(pi * X[:, 0] * X[:, 1]) + 20 * (X[:, 2] - 0.5) ** 2 + 10 * X[:, 3] + 5 * X[:, 4] + noise * N(0, 1).`\n",
        "\n",
        "Com podeu observar tenium 5 variables útils i les altrs que són independents de `y`. \n",
        "\n",
        "[Més informació](https://projecteuclid.org/journals/annals-of-statistics/volume-19/issue-1/Multivariate-Adaptive-Regression-Splines/10.1214/aos/1176347963.full)"
      ],
      "metadata": {
        "id": "CPAOix_lRtN1"
      }
    },
    {
      "cell_type": "code",
      "source": [
        "n_samples = 2000\n",
        "X, y = make_friedman1(n_samples=n_samples, n_features=10, noise=0.0, random_state=33)\n",
        "\n",
        "X = torch.from_numpy(X)\n",
        "y =  torch.from_numpy(y)\n",
        "X = X.float()\n",
        "y = y.float()\n",
        "\n",
        "X_train, X_test, y_train, y_test = train_test_split(X, y, test_size=0.33, random_state=33)\n",
        "\n",
        "batches = 20\n",
        "batch_size = n_samples // batches\n",
        "print(batch_size)"
      ],
      "metadata": {
        "id": "bk0yTJY2Rstp",
        "colab": {
          "base_uri": "https://localhost:8080/"
        },
        "outputId": "24d5d99f-f2d9-4405-9713-d76fc42933de"
      },
      "execution_count": 3,
      "outputs": [
        {
          "output_type": "stream",
          "name": "stdout",
          "text": [
            "100\n"
          ]
        }
      ]
    },
    {
      "cell_type": "code",
      "source": [
        "print(X_train.shape)\n",
        "print(y_train.shape)"
      ],
      "metadata": {
        "colab": {
          "base_uri": "https://localhost:8080/"
        },
        "id": "ZzqOCskYRTa-",
        "outputId": "b356b1da-a287-4ea6-c1db-f2521549110e"
      },
      "execution_count": null,
      "outputs": [
        {
          "output_type": "stream",
          "name": "stdout",
          "text": [
            "torch.Size([1340, 10])\n",
            "torch.Size([1340])\n"
          ]
        }
      ]
    },
    {
      "cell_type": "markdown",
      "source": [
        "## Definició de la xarxa"
      ],
      "metadata": {
        "id": "48Xadr-fV11A"
      }
    },
    {
      "cell_type": "code",
      "source": [
        "model = torch.nn.Sequential(\n",
        "    torch.nn.Linear(10, 8),\n",
        "    torch.nn.Linear(8, 5),\n",
        "    torch.nn.Linear(5, 1),\n",
        "    torch.nn.Flatten(0, 1))\n",
        "\n",
        "# The nn package also contains definitions of popular loss functions; in this\n",
        "# case we will use Mean Squared Error (MSE) as our loss function.\n",
        "loss_fn = torch.nn.MSELoss(reduction='sum')"
      ],
      "metadata": {
        "id": "7Nuf4lBWRWCX"
      },
      "execution_count": 4,
      "outputs": []
    },
    {
      "cell_type": "markdown",
      "source": [
        "## Entrenament# \n"
      ],
      "metadata": {
        "id": "rB17SF-GWDKV"
      }
    },
    {
      "cell_type": "code",
      "source": [
        "learning_rate =  1e-6\n",
        "optimizer = optim.SGD(model.parameters(), lr=learning_rate)\n",
        "\n",
        "iter = 500\n",
        "loss_p = np.zeros((iter))\n",
        "loss_t = np.zeros((iter))\n",
        "\n",
        "for t in range(iter):\n",
        "\n",
        "    # Forward pass: compute predicted y by passing x to the model. Module objects\n",
        "    # override the __call__ operator so you can call them like functions. When\n",
        "    # doing so you pass a Tensor of input data to the Module and it produces\n",
        "    # a Tensor of output data.\n",
        "    model.train()\n",
        "    for i in range(batches):\n",
        "        \n",
        "        y_pred = model(X_train[i*batch_size: (i+1)*batch_size])\n",
        "        # Compute and print loss. We pass Tensors containing the predicted and true\n",
        "        # values of y, and the loss function returns a Tensor containing the\n",
        "        # loss.\n",
        "        loss = loss_fn(y_pred, y_train[i*batch_size: (i+1)*batch_size])\n",
        "        loss_p[t] += loss.item()\n",
        "        # Zero the gradients before running the backward pass.\n",
        "        model.zero_grad()\n",
        "\n",
        "        loss.backward()\n",
        "        optimizer.step()    \n",
        "\n",
        "    loss_p[t] /= batches\n",
        "    model.eval()\n",
        "    y_pred_test = model(X_test)  \n",
        "    loss_test = loss_fn(y_pred_test, y_test)\n",
        "    loss_t[t] = loss_test.item()\n",
        "     \n",
        "\n",
        "plt.title(\"Funció de pèrdua a cada iteració\")\n",
        "plt.plot(loss_p, label=\"train\")\n",
        "plt.plot(loss_t, label=\"test\")\n",
        "plt.legend()\n",
        "plt.show()"
      ],
      "metadata": {
        "colab": {
          "base_uri": "https://localhost:8080/",
          "height": 281
        },
        "id": "AFTYhyLRWE24",
        "outputId": "68c24079-de2d-4269-dfad-12388a2129eb"
      },
      "execution_count": 5,
      "outputs": [
        {
          "output_type": "display_data",
          "data": {
            "text/plain": [
              "<Figure size 432x288 with 1 Axes>"
            ],
            "image/png": "[encoded data removed]"
          },
          "metadata": {
            "needs_background": "light"
          }
        }
      ]
    },
    {
      "cell_type": "markdown",
      "source": [
        "## Resultats\n",
        "\n"
      ],
      "metadata": {
        "id": "v5oZykCgcNqD"
      }
    },
    {
      "cell_type": "code",
      "source": [
        "y_pred = model(X_test)\n",
        "\n",
        "plt.title(\"Resultats visuals\")\n",
        "plt.scatter(y_test, y_pred.detach().numpy(), c=\"red\")\n",
        "plt.plot(y_test, y_test)\n",
        "plt.show()"
      ],
      "metadata": {
        "colab": {
          "base_uri": "https://localhost:8080/",
          "height": 281
        },
        "id": "PkVhj-GucIKk",
        "outputId": "394dacbf-64af-472e-8584-b78897479d61"
      },
      "execution_count": 6,
      "outputs": [
        {
          "output_type": "display_data",
          "data": {
            "text/plain": [
              "<Figure size 432x288 with 1 Axes>"
            ],
            "image/png": "[encoded data removed]"
          },
          "metadata": {
            "needs_background": "light"
          }
        }
      ]
    }
  ]
}