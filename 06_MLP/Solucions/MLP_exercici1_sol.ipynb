{
  "nbformat": 4,
  "nbformat_minor": 0,
  "metadata": {
    "colab": {
      "provenance": [],
      "collapsed_sections": []
    },
    "kernelspec": {
      "name": "python3",
      "display_name": "Python 3"
    },
    "language_info": {
      "name": "python"
    }
  },
  "cells": [
    {
      "cell_type": "code",
      "execution_count": 1,
      "metadata": {
        "id": "XxdTVpgVQ6Jp"
      },
      "outputs": [],
      "source": [
        "# -*- coding: utf-8 -*-\n",
        "import torch\n",
        "import math\n",
        "import torch.optim as optim\n",
        "import numpy as np\n",
        "import matplotlib.pyplot as plt\n",
        "from sklearn.model_selection import train_test_split\n",
        "\n",
        "\n",
        "from sklearn.datasets import make_friedman1"
      ]
    },
    {
      "cell_type": "markdown",
      "source": [
        "# Exercici de Regressió\n",
        "\n",
        "\n",
        "## Generació de les dades\n",
        "Emprarem un conjunt de dades que s'autogenera a partir de certs paràmetres, la variable a predir es correspon amb la següent formula:\n",
        "\n",
        "`y(X) = 10 * sin(pi * X[:, 0] * X[:, 1]) + 20 * (X[:, 2] - 0.5) ** 2 + 10 * X[:, 3] + 5 * X[:, 4] + noise * N(0, 1).`\n",
        "\n",
        "Com podeu observar tenium 5 variables útils i les altrs que són independents de `y`. \n",
        "\n",
        "[Més informació](https://projecteuclid.org/journals/annals-of-statistics/volume-19/issue-1/Multivariate-Adaptive-Regression-Splines/10.1214/aos/1176347963.full)"
      ],
      "metadata": {
        "id": "CPAOix_lRtN1"
      }
    },
    {
      "cell_type": "code",
      "source": [
        "X, y = make_friedman1(n_samples=2000, n_features=10, noise=0.0, random_state=33)\n",
        "\n",
        "X = torch.from_numpy(X)\n",
        "y =  torch.from_numpy(y)\n",
        "X = X.float()\n",
        "y = y.float()\n",
        "\n",
        "X_train, X_test, y_train, y_test = train_test_split(X, y, test_size=0.33, random_state=33)"
      ],
      "metadata": {
        "id": "bk0yTJY2Rstp"
      },
      "execution_count": 2,
      "outputs": []
    },
    {
      "cell_type": "code",
      "source": [
        "print(X_train.shape)\n",
        "print(y_train.shape)"
      ],
      "metadata": {
        "colab": {
          "base_uri": "https://localhost:8080/"
        },
        "id": "ZzqOCskYRTa-",
        "outputId": "301d74fa-1217-4289-cbf7-c12eb35769df"
      },
      "execution_count": null,
      "outputs": [
        {
          "output_type": "stream",
          "name": "stdout",
          "text": [
            "torch.Size([670, 10])\n",
            "torch.Size([670])\n"
          ]
        }
      ]
    },
    {
      "cell_type": "markdown",
      "source": [
        "## Definició de la xarxa"
      ],
      "metadata": {
        "id": "48Xadr-fV11A"
      }
    },
    {
      "cell_type": "code",
      "source": [
        "model = torch.nn.Sequential(\n",
        "    torch.nn.Linear(10, 8),\n",
        "    torch.nn.Linear(8, 5),\n",
        "    torch.nn.Linear(5, 5),\n",
        "    torch.nn.Linear(5, 5),\n",
        "    torch.nn.Linear(5, 5),\n",
        "    torch.nn.Linear(5, 1),\n",
        "    torch.nn.Flatten(0, 1))\n",
        "\n",
        "# The nn package also contains definitions of popular loss functions; in this\n",
        "# case we will use Mean Squared Error (MSE) as our loss function.\n",
        "loss_fn = torch.nn.MSELoss(reduction='sum')"
      ],
      "metadata": {
        "id": "7Nuf4lBWRWCX"
      },
      "execution_count": 7,
      "outputs": []
    },
    {
      "cell_type": "markdown",
      "source": [
        "## Entrenament# \n"
      ],
      "metadata": {
        "id": "rB17SF-GWDKV"
      }
    },
    {
      "cell_type": "code",
      "source": [
        "learning_rate =  1e-7\n",
        "optimizer = optim.SGD(model.parameters(), lr=learning_rate)\n",
        "\n",
        "iter = 2000\n",
        "loss_p = np.zeros((iter))\n",
        "loss_t = np.zeros((iter))\n",
        "\n",
        "for t in range(iter):\n",
        "\n",
        "    # Forward pass: compute predicted y by passing x to the model. Module objects\n",
        "    # override the __call__ operator so you can call them like functions. When\n",
        "    # doing so you pass a Tensor of input data to the Module and it produces\n",
        "    # a Tensor of output data.\n",
        "    y_pred = model(X_train)\n",
        "    y_pred_test = model(X_test)\n",
        "\n",
        "    # Compute and print loss. We pass Tensors containing the predicted and true\n",
        "    # values of y, and the loss function returns a Tensor containing the\n",
        "    # loss.\n",
        "    loss = loss_fn(y_pred, y_train)\n",
        "    loss_test = loss_fn(y_pred_test, y_test)\n",
        "    loss_p[t] = loss.item()\n",
        "    loss_t[t] = loss_test.item()\n",
        "    \n",
        "    # Zero the gradients before running the backward pass.\n",
        "    model.zero_grad()\n",
        "\n",
        "    loss.backward()\n",
        "    optimizer.step()  \n",
        "\n",
        "plt.title(\"Funció de pèrdua a cada iteració\")\n",
        "plt.plot(loss_p, label=\"train\")\n",
        "plt.plot(loss_t, label=\"test\")\n",
        "plt.legend()\n",
        "plt.show()"
      ],
      "metadata": {
        "colab": {
          "base_uri": "https://localhost:8080/",
          "height": 281
        },
        "id": "AFTYhyLRWE24",
        "outputId": "2c0b3717-921a-487f-afe2-244d43fc04ef"
      },
      "execution_count": 8,
      "outputs": [
        {
          "output_type": "display_data",
          "data": {
            "text/plain": [
              "<Figure size 432x288 with 1 Axes>"
            ],
            "image/png": "[encoded data removed]"
          },
          "metadata": {
            "needs_background": "light"
          }
        }
      ]
    },
    {
      "cell_type": "markdown",
      "source": [
        "## Resultats\n",
        "\n"
      ],
      "metadata": {
        "id": "v5oZykCgcNqD"
      }
    },
    {
      "cell_type": "code",
      "source": [
        "y_pred = model(X_test)\n",
        "\n",
        "plt.title(\"Resultats visuals\")\n",
        "plt.scatter(y_test, y_pred.detach().numpy(), c=\"red\")\n",
        "plt.plot(y_test, y_test)\n",
        "plt.show()"
      ],
      "metadata": {
        "colab": {
          "base_uri": "https://localhost:8080/",
          "height": 281
        },
        "id": "PkVhj-GucIKk",
        "outputId": "a4f2d606-aa03-4b93-8279-4445a5dad621"
      },
      "execution_count": 9,
      "outputs": [
        {
          "output_type": "display_data",
          "data": {
            "text/plain": [
              "<Figure size 432x288 with 1 Axes>"
            ],
            "image/png": "[encoded data removed]"
          },
          "metadata": {
            "needs_background": "light"
          }
        }
      ]
    }
  ]
}