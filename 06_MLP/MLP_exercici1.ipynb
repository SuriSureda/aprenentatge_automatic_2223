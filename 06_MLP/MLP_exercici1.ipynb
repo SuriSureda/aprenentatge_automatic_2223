{
  "nbformat": 4,
  "nbformat_minor": 0,
  "metadata": {
    "colab": {
      "provenance": [],
      "collapsed_sections": []
    },
    "kernelspec": {
      "name": "python3",
      "display_name": "Python 3"
    },
    "language_info": {
      "name": "python"
    }
  },
  "cells": [
    {
      "cell_type": "code",
      "execution_count": null,
      "metadata": {
        "id": "XxdTVpgVQ6Jp"
      },
      "outputs": [],
      "source": [
        "# -*- coding: utf-8 -*-\n",
        "import torch\n",
        "import math\n",
        "import torch.optim as optim\n",
        "import numpy as np\n",
        "import matplotlib.pyplot as plt\n",
        "from sklearn.model_selection import train_test_split\n",
        "\n",
        "\n",
        "from sklearn.datasets import make_friedman1"
      ]
    },
    {
      "cell_type": "markdown",
      "source": [
        "# Exercici de Regressió\n",
        "\n",
        "\n",
        "## Generació de les dades\n",
        "Emprarem un conjunt de dades que s'autogenera a partir de certs paràmetres, la variable a predir es correspon amb la següent formula:\n",
        "\n",
        "`y(X) = 10 * sin(pi * X[:, 0] * X[:, 1]) + 20 * (X[:, 2] - 0.5) ** 2 + 10 * X[:, 3] + 5 * X[:, 4] + noise * N(0, 1).`\n",
        "\n",
        "Com podeu observar tenium 5 variables útils i les altrs que són independents de `y`. \n",
        "\n",
        "[Més informació](https://projecteuclid.org/journals/annals-of-statistics/volume-19/issue-1/Multivariate-Adaptive-Regression-Splines/10.1214/aos/1176347963.full)"
      ],
      "metadata": {
        "id": "CPAOix_lRtN1"
      }
    },
    {
      "cell_type": "code",
      "source": [
        "X, y = make_friedman1(n_samples=2000, n_features=10, noise=0.0, random_state=33)\n",
        "\n",
        "X = torch.from_numpy(X)\n",
        "y =  torch.from_numpy(y)\n",
        "X = X.float()\n",
        "y = y.float()\n",
        "\n",
        "# Separar en conjunt d'entrenament i test."
      ],
      "metadata": {
        "id": "bk0yTJY2Rstp"
      },
      "execution_count": null,
      "outputs": []
    },
    {
      "cell_type": "markdown",
      "source": [
        "## Definició de la xarxa\n",
        "\n",
        "- Heu de definir la xarxa amb la que voleu treballar, provau amb diferents arquitectures.\n",
        "\n",
        "- Heu de definir la funció de pèrdua, podeu emprar MSE."
      ],
      "metadata": {
        "id": "48Xadr-fV11A"
      }
    },
    {
      "cell_type": "code",
      "source": [
        "model = torch.nn.Sequential()\n"
      ],
      "metadata": {
        "id": "7Nuf4lBWRWCX"
      },
      "execution_count": null,
      "outputs": []
    },
    {
      "cell_type": "markdown",
      "source": [
        "## Entrenament# \n",
        "\n",
        "Definir el bucle d'entrenament:\n",
        "  - Predicció.\n",
        "  - Càlcul de la funció de pèrdua.\n",
        "  - Càlcul del descens del gradient.\n",
        "\n",
        "Volem veure un gràfic on es mostri el valor de la funció de pèrdua pel conjunt d'entrenament i del conjunt de test a cada iteració.\n"
      ],
      "metadata": {
        "id": "rB17SF-GWDKV"
      }
    },
    {
      "cell_type": "code",
      "source": [
        "# TODO fer l'entrenament"
      ],
      "metadata": {
        "id": "AFTYhyLRWE24"
      },
      "execution_count": null,
      "outputs": []
    },
    {
      "cell_type": "markdown",
      "source": [
        "## Resultats\n",
        "\n"
      ],
      "metadata": {
        "id": "v5oZykCgcNqD"
      }
    },
    {
      "cell_type": "code",
      "source": [
        "y_pred = model()\n",
        "\n",
        "plt.title(\"Resultats visuals\")\n",
        "plt.scatter(y_test, y_pred.detach().numpy(), c=\"red\")\n",
        "plt.plot(y_test, y_test)\n",
        "plt.show()"
      ],
      "metadata": {
        "colab": {
          "base_uri": "https://localhost:8080/",
          "height": 281
        },
        "id": "PkVhj-GucIKk",
        "outputId": "085e2455-a136-480b-e16b-edf27f2ddfb9"
      },
      "execution_count": null,
      "outputs": [
        {
          "output_type": "display_data",
          "data": {
            "text/plain": [
              "<Figure size 432x288 with 1 Axes>"
            ],
            "image/png": "[encoded data removed]"
          },
          "metadata": {
            "needs_background": "light"
          }
        }
      ]
    }
  ]
}