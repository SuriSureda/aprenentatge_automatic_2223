{
  "nbformat": 4,
  "nbformat_minor": 0,
  "metadata": {
    "colab": {
      "provenance": [],
      "collapsed_sections": []
    },
    "kernelspec": {
      "name": "python3",
      "display_name": "Python 3"
    },
    "language_info": {
      "name": "python"
    },
    "gpuClass": "standard"
  },
  "cells": [
    {
      "cell_type": "code",
      "execution_count": null,
      "metadata": {
        "id": "FaadnhbpCcsh"
      },
      "outputs": [],
      "source": [
        "import torch\n",
        "import torch.nn as nn\n",
        "import torch.nn.functional as F\n",
        "import torch.optim as optim\n",
        "from torchvision import datasets, transforms\n",
        "import torch.optim as optim\n",
        "\n",
        "import matplotlib.pyplot as plt\n",
        "import numpy as np"
      ]
    },
    {
      "cell_type": "markdown",
      "source": [
        "## Dades\n",
        "\n",
        "Emprarem el dataset **Fashion MNIST**, una versió del conegut MNIST creat per l'empresa de venta de roba online _Zalando_. Conté dos conjunts de dades (un d'entrenament i un de test) amb 60000 i 10000 mostres respectivament.\n",
        "\n",
        "Cada un dels elements del dataset és una imatge de 28x28 pixels i pot ser de 10 categories diferents.\n",
        "\n",
        "La cárrega i preparació de les dades segueix la mateixa estructura que quan feiem aprenentatge emprant SVM, afegint una passa més, la creació de subconjunts d'entrenament (també coneguts com _mini-batches_).\n",
        "\n",
        "1. Carrega de dades.\n",
        "2. Estandarització.\n",
        "3. Creació de grups d'entrenament.\n"
      ],
      "metadata": {
        "id": "Ly7lrx-gCuLy"
      }
    },
    {
      "cell_type": "code",
      "source": [
        "etiquetes = {\n",
        "    0: \"T-Shirt\",\n",
        "    1: \"Trouser\",\n",
        "    2: \"Pullover\",\n",
        "    3: \"Dress\",\n",
        "    4: \"Coat\",\n",
        "    5: \"Sandal\",\n",
        "    6: \"Shirt\",\n",
        "    7: \"Sneaker\",\n",
        "    8: \"Bag\",\n",
        "    9: \"Ankle Boot\",\n",
        "}\n",
        "\n",
        "# Definim una seqüència (composició) de transformacions \n",
        "transform=transforms.Compose([\n",
        "    transforms.ToTensor(),\n",
        "    transforms.Normalize((0.1307,), (0.3081,)) # mitjana, desviacio tipica (precalculats)\n",
        "    ])\n",
        "\n",
        "# Descarregam un dataset ja integrat en la llibreria Pytorch\n",
        "train = datasets.FashionMNIST('../data', train=True, download=True, transform=transform)\n",
        "test = datasets.FashionMNIST('../data', train=False, transform=transform)"
      ],
      "metadata": {
        "id": "PwSoPhjXCvV9"
      },
      "execution_count": null,
      "outputs": []
    },
    {
      "cell_type": "markdown",
      "source": [
        "Es molt important entendre com és l'estructura dels conjunts que necessitam per fer feina amb la xarxa. "
      ],
      "metadata": {
        "id": "j-vdST97JpfB"
      }
    },
    {
      "cell_type": "code",
      "source": [
        "train_batch_size = 64\n",
        "test_batch_size = 100\n",
        "\n",
        "# Transformam les dades en l'estructura necessaria per entrenar una xarxa\n",
        "train_loader = torch.utils.data.DataLoader(train, train_batch_size)\n",
        "test_loader = torch.utils.data.DataLoader(test, test_batch_size)"
      ],
      "metadata": {
        "id": "EHy3Yd6C87Fz"
      },
      "execution_count": null,
      "outputs": []
    },
    {
      "cell_type": "markdown",
      "source": [
        "\n",
        "A continuació cream un iterador sobre el nostre conjunt d'entrenament, això ens torna un _batch_. Mostram la primera imatge juntament amb la seva etiqueta. Després mostram informació referent al _batch_."
      ],
      "metadata": {
        "id": "tmCCiKz29MOe"
      }
    },
    {
      "cell_type": "code",
      "source": [
        "iterador =  iter(train_loader) # Un iterador!!"
      ],
      "metadata": {
        "id": "yispMZfr1bJn"
      },
      "execution_count": null,
      "outputs": []
    },
    {
      "cell_type": "code",
      "source": [
        "features, labels = next(iterador)\n",
        "\n",
        "# TODO: mostrar una imatge del batch i com a títol posar l'etiqueta.\n",
        "# Extra: mostrar una graella amb tot el batch·\n",
        "\n",
        "print(\"_\"*50)\n",
        "print(f\"Feature batch shape: {features.size()}\")\n",
        "print(f\"Labels batch shape: {labels.size()}\")\n",
        "\n"
      ],
      "metadata": {
        "id": "He-cj6JuFsgr"
      },
      "execution_count": null,
      "outputs": []
    },
    {
      "cell_type": "markdown",
      "source": [
        "## Definició de la xarxa\n",
        "Emprant el mòdul `nn` de _Pytorch_ podem definir la nostra pròpia classe. Com a mínim hi definirem dos mètodes:\n",
        "\n",
        "  - Constructor: mètode `__init__` en el que definim les capes de la nostra xarxa.\n",
        "  - `forward`: mètode en el que definim com és el fluxe de la informació. Aquí podem afegir capes no entrenables.\n",
        "\n",
        "La xarxa que heu de crear és una xarxa densa, per tant totes les capes seràn linears: `nn.Linear`. On la darrera capa ha de tenir una dimensionalitat igual al nombre de classes.\n",
        "\n",
        "Com a sortida és recomanable usar la funció _softmax_ que converteix un vector de $K$ nombres reals en una distribució de probabilitat de $K$ possibles resultats. És una generalització de la funció logística a múltiples dimensions, i s'utilitza en regressió logística multinomial. La funció softmax s'utilitza sovint com l'última funció d'activació d'una xarxa neuronal per normalitzar la sortida d'una xarxa a una distribució de probabilitat sobre classes de sortida predites. Es calcula de la següent manera:\n",
        "\n",
        "<img src=\"https://wikimedia.org/api/rest_v1/media/math/render/svg/ab3ef6ba51afd36c1d2baf06540022053b2dca73\"\n",
        "     alt=\"Softmax\"\n",
        "     style=\"float: left; margin-right: 10px;\" />\n",
        "\n",
        "\n",
        "\n"
      ],
      "metadata": {
        "id": "s8i4Mg8KuD3r"
      }
    },
    {
      "cell_type": "code",
      "source": [
        "class Net(nn.Module):\n",
        "    def __init__(self):\n",
        "        super(Net, self).__init__()\n",
        "        \n",
        "        # TODO: definir les capes que necessitem\n",
        "\n",
        "    def forward(self, x):\n",
        "            \n",
        "        x = torch.flatten(x,1) # TODO: comprovar l'atribut shape de x un cop fet flatten\n",
        "        # TODO connectar les capes. El valor de retorn d'una cap és l'entrada de la següent\n",
        "        output = F.softmax(x, dim=1)\n",
        "        return x"
      ],
      "metadata": {
        "id": "Bz9rSkjSuF6r"
      },
      "execution_count": null,
      "outputs": []
    },
    {
      "cell_type": "markdown",
      "source": [
        "## Entrenament\n",
        "\n",
        "Les bones pràctiques de programació ens diuen que cal organitzar el codi en funcions. En definirem una per la passa d'entrenament i una altra per la fase de test.\n",
        "\n",
        "En aquesta fase s'ha de definir la funció de pèrdua, recordau que aquesta és la funció que avalua la diferència entre el que ha predit la xarxa i la sortida desitjada. Existeixen múltiples funcions de pèrdua que emprarem segons el problema a resoldre i les seves particularitats. Per exemple en el problema de regressió de la setmana passada vàrem emprar l'error absolut al quadrat (_MSE_).\n",
        "\n",
        "Nosaltres emprarem: **cross entropy** que prové de la teoria de la informació de _Shannon_ i que vé a explicar que l'entropia d'una variable aleatòria és el nivell mitjà d'informació / sorpresa / incertesa\" inherent als possibles resultats d'aquesta variable. La fórmula és la següent:\n",
        "\n",
        "$ LCE = -∑_{i=1}^M t_i \\log(p_i)$\n",
        "\n",
        "On $M$ és el nombre de classes, $t_i$ és un valor binari indicant si l'observació és d'aquesta classe (valor 1 si ho és i valor 0 en cas contrari) i $p_i$ és el resultat de la funció _Softmax_ per aquesta classe."
      ],
      "metadata": {
        "id": "A6ISOL_hCk7g"
      }
    },
    {
      "cell_type": "code",
      "source": [
        "def train(model, device, train_loader, optimizer, epoch, log_interval=100, verbose=True):\n",
        "    \n",
        "    model.train() # Posam la xarxa en mode entrenament\n",
        "\n",
        "    loss_v = 0 # Per calcular la mitjana (és la vostra)\n",
        "\n",
        "    # Bucle per entrenar cada un dels batch\n",
        "    for batch_idx, (data, target) in enumerate(train_loader):\n",
        "    \n",
        "        data, target = data.to(device), target.to(device) \n",
        "\n",
        "        optimizer.zero_grad()\n",
        "        output = model(data)\n",
        "\n",
        "        loss = #TODO cercar a la documentació de Pytorch la funció de pèrdua cross entropy\n",
        "        loss.backward()\n",
        "        optimizer.step()\n",
        "\n",
        "        ## Informació de debug\n",
        "        if batch_idx % log_interval == 0 and verbose:\n",
        "            print('Train Epoch: {} [{}/{} ({:.0f}%)]\\tLoss: {:.6f}, Average: {:.6f}'.format(\n",
        "                epoch, batch_idx * len(data), len(train_loader.dataset),\n",
        "                100. * batch_idx / len(train_loader), loss.item(), loss.item()/ len(data)))\n",
        "        loss_v += loss.item()\n",
        "\n",
        "    loss_v /= len(train_loader.dataset)\n",
        "    print('\\nTrain set: Average loss: {:.4f}\\n'.format(loss_v))\n",
        " \n",
        "    return loss_v\n",
        "\n",
        "\n",
        "def test(model, device, test_loader):\n",
        "    model.eval() # Posam la xarxa en mode avaluació\n",
        "\n",
        "    test_loss = 0\n",
        "    correct = 0\n",
        "\n",
        "    with torch.no_grad():\n",
        "        for data, target in test_loader:\n",
        "            data, target = data.to(device), target.to(device)\n",
        "            output = model(data)\n",
        "            test_loss += #TODO cercar a la documentació de Pytorch la funció de pèrdua cross entropy \n",
        "            pred = output.argmax(dim=1, keepdim=True)  # index amb la max probabilitat\n",
        "            correct += pred.eq(target.view_as(pred)).sum().item()\n",
        " \n",
        "    # Informació de debug\n",
        "    test_loss /= len(test_loader.dataset)\n",
        "\n",
        "    print('\\nTest set: Average loss: {:.4f}, Accuracy: {}/{} ({:.0f}%)\\n'.format(\n",
        "        test_loss, correct, len(test_loader.dataset),\n",
        "        100. * correct / len(test_loader.dataset)))\n",
        "    \n",
        "    return test_loss"
      ],
      "metadata": {
        "id": "h9OLtpPzClch"
      },
      "execution_count": null,
      "outputs": []
    },
    {
      "cell_type": "markdown",
      "source": [
        "A continuació definim els paràmetres d'entrenament i el bucle principal:"
      ],
      "metadata": {
        "id": "RBGKL43vsUnD"
      }
    },
    {
      "cell_type": "code",
      "source": [
        "torch.manual_seed(33)\n",
        "\n",
        "# Ens permet emprar l'entorn de cuda. El podem activar a \"Entorno de ejecución\"\n",
        "use_cuda = False\n",
        "if use_cuda:\n",
        "    device = torch.device(\"cuda\")\n",
        "else:\n",
        "    device = torch.device(\"cpu\")\n",
        "\n",
        "# Paràmetres bàsics\n",
        "epochs =  #  ¿?\n",
        "lr =  #  ¿? \n",
        "\n",
        "model = Net().to(device)\n",
        "\n",
        "# Stochastic gradient descent\n",
        "optimizer = optim.SGD(model.parameters(), lr=lr) #momentum\n",
        "\n",
        "# Guardam el valor de pèrdua mig de cada època, per fer el gràfic final\n",
        "train_l = np.zeros((epochs))\n",
        "test_l = np.zeros((epochs))\n",
        "\n",
        "# Bucle d'entrenament\n",
        "for epoch in range(0, epochs):\n",
        "    train_l[epoch] = train(model, device, train_loader, optimizer, epoch)\n",
        "    test_l[epoch]  = test(model, device, test_loader)\n"
      ],
      "metadata": {
        "id": "cNIBWqAwsVSb"
      },
      "execution_count": null,
      "outputs": []
    },
    {
      "cell_type": "code",
      "source": [
        "plt.title(\"Resultats de l'entrenament\")\n",
        "plt.plot(range(1, (epochs + 1)), train_l,  c=\"red\", label=\"train\")\n",
        "plt.plot(range(1,  (epochs + 1)), test_l,  c=\"green\", label=\"test\")\n",
        "plt.legend();"
      ],
      "metadata": {
        "id": "UFy6vECD8Pbq"
      },
      "execution_count": null,
      "outputs": []
    },
    {
      "cell_type": "markdown",
      "source": [
        "## SVM\n",
        "\n",
        "La pregunta és: Ho podem fer millor que una SVM lineal?\n",
        "\n",
        "### Preparació de les dades\n",
        "\n",
        "Aprofitam el dataset de _Pytorch_ per assegurar que volem resoldre el mateix problema."
      ],
      "metadata": {
        "id": "z5gFpefdQF6_"
      }
    },
    {
      "cell_type": "code",
      "source": [
        "from sklearn.model_selection import GridSearchCV\n",
        "from sklearn import svm\n",
        "from sklearn.svm import LinearSVC\n",
        "from sklearn.decomposition import PCA\n",
        "from sklearn.metrics import accuracy_score"
      ],
      "metadata": {
        "id": "ibF2ACMMO0O4"
      },
      "execution_count": null,
      "outputs": []
    },
    {
      "cell_type": "markdown",
      "source": [
        "Transformam els tensors en matrius i donam el format adient:"
      ],
      "metadata": {
        "id": "MjsxBaul0kCr"
      }
    },
    {
      "cell_type": "code",
      "source": [
        "train_np = train.data.numpy()\n",
        "test_np = test.data.numpy()\n",
        "\n",
        "X_train = train_np.reshape((train_np.shape[0], train_np.shape[1]*train_np.shape[2]))\n",
        "y_train = train.targets.numpy()\n",
        "X_test = test_np.reshape((test_np.shape[0], test_np.shape[1]*test_np.shape[2]))\n",
        "y_test = test.targets.numpy()\n",
        "\n",
        "print(X_train.shape, X_test.shape)\n",
        "print(y_train.shape, y_test.shape)"
      ],
      "metadata": {
        "id": "SYKUppOc_4JE",
        "colab": {
          "base_uri": "https://localhost:8080/"
        },
        "outputId": "460e9e7e-e306-4856-ad44-56299c940acc"
      },
      "execution_count": null,
      "outputs": [
        {
          "output_type": "stream",
          "name": "stdout",
          "text": [
            "(60000, 784) (10000, 784)\n",
            "(60000,) (10000,)\n"
          ]
        }
      ]
    },
    {
      "cell_type": "markdown",
      "source": [
        "La dimensionalitat és molt gran i no podriem resoldre el problema en un temps raonable, aplicarem un PCA per reduïr les característiques:"
      ],
      "metadata": {
        "id": "D7uBkmemuh-4"
      }
    },
    {
      "cell_type": "code",
      "source": [
        "pca = PCA().fit(X_train)\n",
        "plt.figure()\n",
        "plt.plot(np.cumsum(pca.explained_variance_ratio_))\n",
        "plt.xlabel('number of components')\n",
        "plt.ylabel('cumulative explained variance')\n",
        "\n",
        "pca = PCA(0.95, whiten=True)\n",
        "X_train_pca = pca.fit_transform(X_train)\n",
        "X_test_pca = pca.transform(X_test)\n",
        "print(X_train_pca.shape)\n",
        "print(X_test_pca.shape)"
      ],
      "metadata": {
        "colab": {
          "base_uri": "https://localhost:8080/",
          "height": 314
        },
        "id": "wYdM6Ctyu6EZ",
        "outputId": "cfa56866-90b2-445f-df9d-36a4dfcccae4"
      },
      "execution_count": null,
      "outputs": [
        {
          "output_type": "stream",
          "name": "stdout",
          "text": [
            "(60000, 187)\n",
            "(10000, 187)\n"
          ]
        },
        {
          "output_type": "display_data",
          "data": {
            "text/plain": [
              "<Figure size 432x288 with 1 Axes>"
            ],
            "image/png": "[encoded data removed]"
          },
          "metadata": {
            "needs_background": "light"
          }
        }
      ]
    },
    {
      "cell_type": "markdown",
      "source": [
        "Realitzam l'entrenament:\n",
        "\n",
        "**Nota**: La cerca de paràmetres no és massa adient...."
      ],
      "metadata": {
        "id": "Vi901yuW00NY"
      }
    },
    {
      "cell_type": "code",
      "source": [
        "parameters = { 'C':[1]}\n",
        "svc = LinearSVC(max_iter=1500)\n",
        "clf = GridSearchCV(svc, parameters)\n",
        "clf.fit(X_train_pca, y_train)\n",
        "y_predict = clf.predict(X_test_pca)"
      ],
      "metadata": {
        "id": "D12v8YdlOyRc"
      },
      "execution_count": null,
      "outputs": []
    },
    {
      "cell_type": "markdown",
      "source": [
        "Per poder fer comparacions directes mostram la mateixa mètrica que amb la xarxa:"
      ],
      "metadata": {
        "id": "k1-9HBkZ0_hB"
      }
    },
    {
      "cell_type": "code",
      "source": [
        "p = accuracy_score(y_predict, y_test)\n",
        "print(p)"
      ],
      "metadata": {
        "colab": {
          "base_uri": "https://localhost:8080/"
        },
        "id": "JIiWWoC3QCp8",
        "outputId": "be107954-402d-4023-b456-9bdd92ecdf26"
      },
      "execution_count": null,
      "outputs": [
        {
          "output_type": "stream",
          "name": "stdout",
          "text": [
            "0.8396\n"
          ]
        }
      ]
    }
  ]
}