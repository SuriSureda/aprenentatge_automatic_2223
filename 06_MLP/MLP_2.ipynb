{
  "cells": [
    {
      "cell_type": "code",
      "execution_count": 12,
      "metadata": {
        "id": "FaadnhbpCcsh"
      },
      "outputs": [],
      "source": [
        "import torch\n",
        "import torch.nn as nn\n",
        "import torch.nn.functional as F\n",
        "import torch.optim as optim\n",
        "from torchvision import datasets, transforms\n",
        "import torch.optim as optim\n",
        "\n",
        "import matplotlib.pyplot as plt\n",
        "import numpy as np"
      ]
    },
    {
      "cell_type": "markdown",
      "metadata": {
        "id": "Ly7lrx-gCuLy"
      },
      "source": [
        "## Dades\n",
        "\n",
        "Emprarem el dataset **Fashion MNIST**, una versió del conegut MNIST creat per l'empresa de venta de roba online _Zalando_. Conté dos conjunts de dades (un d'entrenament i un de test) amb 60000 i 10000 mostres respectivament.\n",
        "\n",
        "Cada un dels elements del dataset és una imatge de 28x28 pixels i pot ser de 10 categories diferents.\n",
        "\n",
        "La cárrega i preparació de les dades segueix la mateixa estructura que quan feiem aprenentatge emprant SVM, afegint una passa més, la creació de subconjunts d'entrenament (també coneguts com _mini-batches_).\n",
        "\n",
        "1. Carrega de dades.\n",
        "2. Estandarització.\n",
        "3. Creació de grups d'entrenament.\n"
      ]
    },
    {
      "cell_type": "code",
      "execution_count": 13,
      "metadata": {
        "id": "PwSoPhjXCvV9"
      },
      "outputs": [],
      "source": [
        "etiquetes = {\n",
        "    0: \"T-Shirt\",\n",
        "    1: \"Trouser\",\n",
        "    2: \"Pullover\",\n",
        "    3: \"Dress\",\n",
        "    4: \"Coat\",\n",
        "    5: \"Sandal\",\n",
        "    6: \"Shirt\",\n",
        "    7: \"Sneaker\",\n",
        "    8: \"Bag\",\n",
        "    9: \"Ankle Boot\",\n",
        "}\n",
        "\n",
        "# Definim una seqüència (composició) de transformacions \n",
        "transform=transforms.Compose([\n",
        "    transforms.ToTensor(),\n",
        "    transforms.Normalize((0.1307,), (0.3081,)) # mitjana, desviacio tipica (precalculats)\n",
        "    ])\n",
        "\n",
        "# Descarregam un dataset ja integrat en la llibreria Pytorch\n",
        "train_data = datasets.FashionMNIST('../data', train=True, download=True, transform=transform)\n",
        "test_data = datasets.FashionMNIST('../data', train=False, transform=transform)"
      ]
    },
    {
      "cell_type": "markdown",
      "metadata": {
        "id": "j-vdST97JpfB"
      },
      "source": [
        "Es molt important entendre com és l'estructura dels conjunts que necessitam per fer feina amb la xarxa. "
      ]
    },
    {
      "cell_type": "code",
      "execution_count": 14,
      "metadata": {
        "id": "EHy3Yd6C87Fz"
      },
      "outputs": [],
      "source": [
        "train_batch_size = 64\n",
        "test_batch_size = 100\n",
        "\n",
        "# Transformam les dades en l'estructura necessaria per entrenar una xarxa\n",
        "train_loader = torch.utils.data.DataLoader(train_data, train_batch_size)\n",
        "test_loader = torch.utils.data.DataLoader(test_data, test_batch_size)"
      ]
    },
    {
      "cell_type": "markdown",
      "metadata": {
        "id": "tmCCiKz29MOe"
      },
      "source": [
        "\n",
        "A continuació cream un iterador sobre el nostre conjunt d'entrenament, això ens torna un _batch_. Mostram la primera imatge juntament amb la seva etiqueta. Després mostram informació referent al _batch_."
      ]
    },
    {
      "cell_type": "code",
      "execution_count": 15,
      "metadata": {
        "id": "yispMZfr1bJn"
      },
      "outputs": [],
      "source": [
        "iterador =  iter(train_loader) # Un iterador!!"
      ]
    },
    {
      "cell_type": "code",
      "execution_count": 16,
      "metadata": {
        "id": "He-cj6JuFsgr"
      },
      "outputs": [
        {
          "name": "stdout",
          "output_type": "stream",
          "text": [
            "__________________________________________________\n",
            "Feature batch shape: torch.Size([64, 1, 28, 28])\n",
            "Labels batch shape: torch.Size([64])\n"
          ]
        }
      ],
      "source": [
        "features, labels = next(iterador)\n",
        "\n",
        "# TODO: mostrar una imatge del batch i com a títol posar l'etiqueta.\n",
        "# Extra: mostrar una graella amb tot el batch·\n",
        "\n",
        "print(\"_\"*50)\n",
        "print(f\"Feature batch shape: {features.size()}\")\n",
        "print(f\"Labels batch shape: {labels.size()}\")\n",
        "\n"
      ]
    },
    {
      "cell_type": "markdown",
      "metadata": {
        "id": "s8i4Mg8KuD3r"
      },
      "source": [
        "## Definició de la xarxa\n",
        "Emprant el mòdul `nn` de _Pytorch_ podem definir la nostra pròpia classe. Com a mínim hi definirem dos mètodes:\n",
        "\n",
        "  - Constructor: mètode `__init__` en el que definim les capes de la nostra xarxa.\n",
        "  - `forward`: mètode en el que definim com és el fluxe de la informació. Aquí podem afegir capes no entrenables.\n",
        "\n",
        "La xarxa que heu de crear és una xarxa densa, per tant totes les capes seràn linears: `nn.Linear`. On la darrera capa ha de tenir una dimensionalitat igual al nombre de classes.\n",
        "\n",
        "Com a sortida és recomanable usar la funció _softmax_ que converteix un vector de $K$ nombres reals en una distribució de probabilitat de $K$ possibles resultats. És una generalització de la funció logística a múltiples dimensions, i s'utilitza en regressió logística multinomial. La funció softmax s'utilitza sovint com l'última funció d'activació d'una xarxa neuronal per normalitzar la sortida d'una xarxa a una distribució de probabilitat sobre classes de sortida predites. Es calcula de la següent manera:\n",
        "\n",
        "<img src=\"https://wikimedia.org/api/rest_v1/media/math/render/svg/ab3ef6ba51afd36c1d2baf06540022053b2dca73\"\n",
        "     alt=\"Softmax\"\n",
        "     style=\"float: left; margin-right: 10px;\" />\n",
        "\n",
        "\n",
        "\n"
      ]
    },
    {
      "cell_type": "code",
      "execution_count": 17,
      "metadata": {
        "id": "Bz9rSkjSuF6r"
      },
      "outputs": [],
      "source": [
        "from numpy import shape\n",
        "\n",
        "\n",
        "class Net(nn.Module):\n",
        "    def __init__(self, n_original, n_out):\n",
        "        super(Net, self).__init__()\n",
        "        self.fc1 = nn.Linear(n_original, n_original//2)\n",
        "        self.fc2 = nn.Linear(n_original//2, n_original//4)\n",
        "        self.fc3 = nn.Linear(n_original//4, n_original//8)\n",
        "        self.fc4 = nn.Linear(n_original//8, n_original//16)\n",
        "        self.fc5 = nn.Linear(n_original//16, n_out)\n",
        "\n",
        "\n",
        "    def forward(self, x):\n",
        "            \n",
        "        x = torch.flatten(x,1) # TODO: comprovar l'atribut shape de x un cop fet flatten\n",
        "        \n",
        "        x = self.fc1(x)\n",
        "        x = self.fc2(x)\n",
        "        x = self.fc3(x)\n",
        "        x = self.fc4(x)\n",
        "        x = self.fc5(x)\n",
        "        \n",
        "        output = F.softmax(x, dim=1)\n",
        "        return output"
      ]
    },
    {
      "cell_type": "markdown",
      "metadata": {
        "id": "A6ISOL_hCk7g"
      },
      "source": [
        "## Entrenament\n",
        "\n",
        "Les bones pràctiques de programació ens diuen que cal organitzar el codi en funcions. En definirem una per la passa d'entrenament i una altra per la fase de test.\n",
        "\n",
        "En aquesta fase s'ha de definir la funció de pèrdua, recordau que aquesta és la funció que avalua la diferència entre el que ha predit la xarxa i la sortida desitjada. Existeixen múltiples funcions de pèrdua que emprarem segons el problema a resoldre i les seves particularitats. Per exemple en el problema de regressió de la setmana passada vàrem emprar l'error absolut al quadrat (_MSE_).\n",
        "\n",
        "Nosaltres emprarem: **cross entropy** que prové de la teoria de la informació de _Shannon_ i que vé a explicar que l'entropia d'una variable aleatòria és el nivell mitjà d'informació / sorpresa / incertesa\" inherent als possibles resultats d'aquesta variable. La fórmula és la següent:\n",
        "\n",
        "$ LCE = -∑_{i=1}^M t_i \\log(p_i)$\n",
        "\n",
        "On $M$ és el nombre de classes, $t_i$ és un valor binari indicant si l'observació és d'aquesta classe (valor 1 si ho és i valor 0 en cas contrari) i $p_i$ és el resultat de la funció _Softmax_ per aquesta classe."
      ]
    },
    {
      "cell_type": "code",
      "execution_count": 18,
      "metadata": {
        "id": "h9OLtpPzClch"
      },
      "outputs": [],
      "source": [
        "def train(model, device, train_loader, optimizer, epoch, log_interval=100, verbose=True):\n",
        "    \n",
        "    model.train() # Posam la xarxa en mode entrenament\n",
        "\n",
        "    loss_v = 0 # Per calcular la mitjana (és la vostra)\n",
        "\n",
        "    loss_f = nn.CrossEntropyLoss()    \n",
        "\n",
        "    # Bucle per entrenar cada un dels batch\n",
        "    for batch_idx, (data, target) in enumerate(train_loader):\n",
        "    \n",
        "        data, target = data.to(device), target.to(device) \n",
        "\n",
        "        optimizer.zero_grad()\n",
        "        output = model(data)\n",
        "\n",
        "        loss = loss_f(output, target)\n",
        "        loss.backward()\n",
        "        optimizer.step()\n",
        "\n",
        "        ## Informació de debug\n",
        "        if batch_idx % log_interval == 0 and verbose:\n",
        "            print('Train Epoch: {} [{}/{} ({:.0f}%)]\\tLoss: {:.6f}, Average: {:.6f}'.format(\n",
        "                epoch, batch_idx * len(data), len(train_loader.dataset),\n",
        "                100. * batch_idx / len(train_loader), loss.item(), loss.item()/ len(data)))\n",
        "        loss_v += loss.item()\n",
        "\n",
        "    loss_v /= len(train_loader.dataset)\n",
        "    print('\\nTrain set: Average loss: {:.4f}\\n'.format(loss_v))\n",
        " \n",
        "    return loss_v\n",
        "\n",
        "\n",
        "def test(model, device, test_loader):\n",
        "    model.eval() # Posam la xarxa en mode avaluació\n",
        "\n",
        "    loss = nn.CrossEntropyLoss()    \n",
        "\n",
        "    test_loss = 0\n",
        "    correct = 0\n",
        "\n",
        "    with torch.no_grad():\n",
        "        for data, target in test_loader:\n",
        "            data, target = data.to(device), target.to(device)\n",
        "            output = model(data)\n",
        "            test_loss += loss(output, target)\n",
        "            pred = output.argmax(dim=1, keepdim=True)  # index amb la max probabilitat\n",
        "            correct += pred.eq(target.view_as(pred)).sum().item()\n",
        " \n",
        "    # Informació de debug\n",
        "    test_loss /= len(test_loader.dataset)\n",
        "\n",
        "    print('\\nTest set: Average loss: {:.4f}, Accuracy: {}/{} ({:.0f}%)\\n'.format(\n",
        "        test_loss, correct, len(test_loader.dataset),\n",
        "        100. * correct / len(test_loader.dataset)))\n",
        "    \n",
        "    return test_loss"
      ]
    },
    {
      "cell_type": "markdown",
      "metadata": {
        "id": "RBGKL43vsUnD"
      },
      "source": [
        "A continuació definim els paràmetres d'entrenament i el bucle principal:"
      ]
    },
    {
      "cell_type": "code",
      "execution_count": 19,
      "metadata": {
        "id": "cNIBWqAwsVSb"
      },
      "outputs": [
        {
          "name": "stdout",
          "output_type": "stream",
          "text": [
            "Train Epoch: 0 [0/60000 (0%)]\tLoss: 2.301328, Average: 0.035958\n",
            "Train Epoch: 0 [6400/60000 (11%)]\tLoss: 2.301104, Average: 0.035955\n",
            "Train Epoch: 0 [12800/60000 (21%)]\tLoss: 2.300629, Average: 0.035947\n",
            "Train Epoch: 0 [19200/60000 (32%)]\tLoss: 2.302064, Average: 0.035970\n",
            "Train Epoch: 0 [25600/60000 (43%)]\tLoss: 2.302166, Average: 0.035971\n",
            "Train Epoch: 0 [32000/60000 (53%)]\tLoss: 2.301622, Average: 0.035963\n",
            "Train Epoch: 0 [38400/60000 (64%)]\tLoss: 2.303786, Average: 0.035997\n",
            "Train Epoch: 0 [44800/60000 (75%)]\tLoss: 2.302197, Average: 0.035972\n",
            "Train Epoch: 0 [51200/60000 (85%)]\tLoss: 2.300691, Average: 0.035948\n",
            "Train Epoch: 0 [57600/60000 (96%)]\tLoss: 2.303865, Average: 0.035998\n",
            "\n",
            "Train set: Average loss: 0.0360\n",
            "\n",
            "\n",
            "Test set: Average loss: 0.0230, Accuracy: 983/10000 (10%)\n",
            "\n",
            "Train Epoch: 1 [0/60000 (0%)]\tLoss: 2.301265, Average: 0.035957\n",
            "Train Epoch: 1 [6400/60000 (11%)]\tLoss: 2.301039, Average: 0.035954\n",
            "Train Epoch: 1 [12800/60000 (21%)]\tLoss: 2.300558, Average: 0.035946\n",
            "Train Epoch: 1 [19200/60000 (32%)]\tLoss: 2.302006, Average: 0.035969\n",
            "Train Epoch: 1 [25600/60000 (43%)]\tLoss: 2.302097, Average: 0.035970\n",
            "Train Epoch: 1 [32000/60000 (53%)]\tLoss: 2.301552, Average: 0.035962\n",
            "Train Epoch: 1 [38400/60000 (64%)]\tLoss: 2.303731, Average: 0.035996\n",
            "Train Epoch: 1 [44800/60000 (75%)]\tLoss: 2.302135, Average: 0.035971\n",
            "Train Epoch: 1 [51200/60000 (85%)]\tLoss: 2.300629, Average: 0.035947\n",
            "Train Epoch: 1 [57600/60000 (96%)]\tLoss: 2.303797, Average: 0.035997\n",
            "\n",
            "Train set: Average loss: 0.0360\n",
            "\n",
            "\n",
            "Test set: Average loss: 0.0230, Accuracy: 987/10000 (10%)\n",
            "\n",
            "Train Epoch: 2 [0/60000 (0%)]\tLoss: 2.301202, Average: 0.035956\n",
            "Train Epoch: 2 [6400/60000 (11%)]\tLoss: 2.300975, Average: 0.035953\n",
            "Train Epoch: 2 [12800/60000 (21%)]\tLoss: 2.300485, Average: 0.035945\n",
            "Train Epoch: 2 [19200/60000 (32%)]\tLoss: 2.301949, Average: 0.035968\n",
            "Train Epoch: 2 [25600/60000 (43%)]\tLoss: 2.302028, Average: 0.035969\n",
            "Train Epoch: 2 [32000/60000 (53%)]\tLoss: 2.301481, Average: 0.035961\n",
            "Train Epoch: 2 [38400/60000 (64%)]\tLoss: 2.303676, Average: 0.035995\n",
            "Train Epoch: 2 [44800/60000 (75%)]\tLoss: 2.302074, Average: 0.035970\n",
            "Train Epoch: 2 [51200/60000 (85%)]\tLoss: 2.300568, Average: 0.035946\n",
            "Train Epoch: 2 [57600/60000 (96%)]\tLoss: 2.303730, Average: 0.035996\n",
            "\n",
            "Train set: Average loss: 0.0360\n",
            "\n",
            "\n",
            "Test set: Average loss: 0.0230, Accuracy: 992/10000 (10%)\n",
            "\n",
            "Train Epoch: 3 [0/60000 (0%)]\tLoss: 2.301138, Average: 0.035955\n",
            "Train Epoch: 3 [6400/60000 (11%)]\tLoss: 2.300911, Average: 0.035952\n",
            "Train Epoch: 3 [12800/60000 (21%)]\tLoss: 2.300413, Average: 0.035944\n",
            "Train Epoch: 3 [19200/60000 (32%)]\tLoss: 2.301891, Average: 0.035967\n",
            "Train Epoch: 3 [25600/60000 (43%)]\tLoss: 2.301959, Average: 0.035968\n",
            "Train Epoch: 3 [32000/60000 (53%)]\tLoss: 2.301411, Average: 0.035960\n",
            "Train Epoch: 3 [38400/60000 (64%)]\tLoss: 2.303620, Average: 0.035994\n",
            "Train Epoch: 3 [44800/60000 (75%)]\tLoss: 2.302012, Average: 0.035969\n",
            "Train Epoch: 3 [51200/60000 (85%)]\tLoss: 2.300506, Average: 0.035945\n",
            "Train Epoch: 3 [57600/60000 (96%)]\tLoss: 2.303663, Average: 0.035995\n",
            "\n",
            "Train set: Average loss: 0.0360\n",
            "\n",
            "\n",
            "Test set: Average loss: 0.0230, Accuracy: 994/10000 (10%)\n",
            "\n",
            "Train Epoch: 4 [0/60000 (0%)]\tLoss: 2.301075, Average: 0.035954\n",
            "Train Epoch: 4 [6400/60000 (11%)]\tLoss: 2.300846, Average: 0.035951\n",
            "Train Epoch: 4 [12800/60000 (21%)]\tLoss: 2.300342, Average: 0.035943\n",
            "Train Epoch: 4 [19200/60000 (32%)]\tLoss: 2.301834, Average: 0.035966\n",
            "Train Epoch: 4 [25600/60000 (43%)]\tLoss: 2.301890, Average: 0.035967\n",
            "Train Epoch: 4 [32000/60000 (53%)]\tLoss: 2.301341, Average: 0.035958\n",
            "Train Epoch: 4 [38400/60000 (64%)]\tLoss: 2.303565, Average: 0.035993\n",
            "Train Epoch: 4 [44800/60000 (75%)]\tLoss: 2.301951, Average: 0.035968\n",
            "Train Epoch: 4 [51200/60000 (85%)]\tLoss: 2.300445, Average: 0.035944\n",
            "Train Epoch: 4 [57600/60000 (96%)]\tLoss: 2.303595, Average: 0.035994\n",
            "\n",
            "Train set: Average loss: 0.0360\n",
            "\n",
            "\n",
            "Test set: Average loss: 0.0230, Accuracy: 996/10000 (10%)\n",
            "\n"
          ]
        }
      ],
      "source": [
        "torch.manual_seed(33)\n",
        "\n",
        "# Ens permet emprar l'entorn de cuda. El podem activar a \"Entorno de ejecución\"\n",
        "use_cuda = False\n",
        "if use_cuda:\n",
        "    device = torch.device(\"cuda\")\n",
        "else:\n",
        "    device = torch.device(\"cpu\")\n",
        "\n",
        "# Paràmetres bàsics\n",
        "epochs =  5# \n",
        "lr =  1e-5# \n",
        "\n",
        "n_out = len(etiquetes.keys())\n",
        "\n",
        "n_original_features = train_data.data[0].shape[0] * train_data.data[0].shape[1]\n",
        "model = Net(n_original_features, n_out).to(device)\n",
        "\n",
        "# Stochastic gradient descent\n",
        "optimizer = optim.SGD(model.parameters(), lr=lr) #momentum\n",
        "\n",
        "# Guardam el valor de pèrdua mig de cada època, per fer el gràfic final\n",
        "train_l = np.zeros((epochs))\n",
        "test_l = np.zeros((epochs))\n",
        "\n",
        "# Bucle d'entrenament\n",
        "for epoch in range(0, epochs):\n",
        "    train_l[epoch] = train(model, device, train_loader, optimizer, epoch)\n",
        "    test_l[epoch]  = test(model, device, test_loader)\n"
      ]
    },
    {
      "cell_type": "code",
      "execution_count": 23,
      "metadata": {
        "id": "UFy6vECD8Pbq"
      },
      "outputs": [
        {
          "data": {
            "image/png": "[encoded data removed]",
            "text/plain": [
              "<Figure size 640x480 with 1 Axes>"
            ]
          },
          "metadata": {},
          "output_type": "display_data"
        }
      ],
      "source": [
        "plt.title(\"Resultats de l'entrenament\")\n",
        "plt.plot(range(1, (epochs + 1)), train_l,  c=\"red\", label=\"train\")\n",
        "plt.plot(range(1,  (epochs + 1)), test_l,  c=\"green\", label=\"test\")\n",
        "plt.legend();"
      ]
    },
    {
      "cell_type": "markdown",
      "metadata": {
        "id": "z5gFpefdQF6_"
      },
      "source": [
        "## SVM\n",
        "\n",
        "La pregunta és: Ho podem fer millor que una SVM lineal?\n",
        "\n",
        "### Preparació de les dades\n",
        "\n",
        "Aprofitam el dataset de _Pytorch_ per assegurar que volem resoldre el mateix problema."
      ]
    },
    {
      "cell_type": "code",
      "execution_count": 21,
      "metadata": {
        "id": "ibF2ACMMO0O4"
      },
      "outputs": [],
      "source": [
        "from sklearn.model_selection import GridSearchCV\n",
        "from sklearn import svm\n",
        "from sklearn.svm import LinearSVC\n",
        "from sklearn.decomposition import PCA\n",
        "from sklearn.metrics import accuracy_score"
      ]
    },
    {
      "cell_type": "markdown",
      "metadata": {
        "id": "MjsxBaul0kCr"
      },
      "source": [
        "Transformam els tensors en matrius i donam el format adient:"
      ]
    },
    {
      "cell_type": "code",
      "execution_count": 22,
      "metadata": {
        "colab": {
          "base_uri": "https://localhost:8080/"
        },
        "id": "SYKUppOc_4JE",
        "outputId": "460e9e7e-e306-4856-ad44-56299c940acc"
      },
      "outputs": [
        {
          "ename": "AttributeError",
          "evalue": "'function' object has no attribute 'data'",
          "output_type": "error",
          "traceback": [
            "\u001b[0;31m---------------------------------------------------------------------------\u001b[0m",
            "\u001b[0;31mAttributeError\u001b[0m                            Traceback (most recent call last)",
            "Cell \u001b[0;32mIn [22], line 1\u001b[0m\n\u001b[0;32m----> 1\u001b[0m train_np \u001b[39m=\u001b[39m train\u001b[39m.\u001b[39;49mdata\u001b[39m.\u001b[39mnumpy()\n\u001b[1;32m      2\u001b[0m test_np \u001b[39m=\u001b[39m test\u001b[39m.\u001b[39mdata\u001b[39m.\u001b[39mnumpy()\n\u001b[1;32m      4\u001b[0m X_train \u001b[39m=\u001b[39m train_np\u001b[39m.\u001b[39mreshape((train_np\u001b[39m.\u001b[39mshape[\u001b[39m0\u001b[39m], train_np\u001b[39m.\u001b[39mshape[\u001b[39m1\u001b[39m]\u001b[39m*\u001b[39mtrain_np\u001b[39m.\u001b[39mshape[\u001b[39m2\u001b[39m]))\n",
            "\u001b[0;31mAttributeError\u001b[0m: 'function' object has no attribute 'data'"
          ]
        }
      ],
      "source": [
        "train_np = train.data.numpy()\n",
        "test_np = test.data.numpy()\n",
        "\n",
        "X_train = train_np.reshape((train_np.shape[0], train_np.shape[1]*train_np.shape[2]))\n",
        "y_train = train.targets.numpy()\n",
        "X_test = test_np.reshape((test_np.shape[0], test_np.shape[1]*test_np.shape[2]))\n",
        "y_test = test.targets.numpy()\n",
        "\n",
        "print(X_train.shape, X_test.shape)\n",
        "print(y_train.shape, y_test.shape)"
      ]
    },
    {
      "cell_type": "markdown",
      "metadata": {
        "id": "D7uBkmemuh-4"
      },
      "source": [
        "La dimensionalitat és molt gran i no podriem resoldre el problema en un temps raonable, aplicarem un PCA per reduïr les característiques:"
      ]
    },
    {
      "cell_type": "code",
      "execution_count": null,
      "metadata": {
        "colab": {
          "base_uri": "https://localhost:8080/",
          "height": 314
        },
        "id": "wYdM6Ctyu6EZ",
        "outputId": "cfa56866-90b2-445f-df9d-36a4dfcccae4"
      },
      "outputs": [],
      "source": [
        "pca = PCA().fit(X_train)\n",
        "plt.figure()\n",
        "plt.plot(np.cumsum(pca.explained_variance_ratio_))\n",
        "plt.xlabel('number of components')\n",
        "plt.ylabel('cumulative explained variance')\n",
        "\n",
        "pca = PCA(0.95, whiten=True)\n",
        "X_train_pca = pca.fit_transform(X_train)\n",
        "X_test_pca = pca.transform(X_test)\n",
        "print(X_train_pca.shape)\n",
        "print(X_test_pca.shape)"
      ]
    },
    {
      "cell_type": "markdown",
      "metadata": {
        "id": "Vi901yuW00NY"
      },
      "source": [
        "Realitzam l'entrenament:\n",
        "\n",
        "**Nota**: La cerca de paràmetres no és massa adient...."
      ]
    },
    {
      "cell_type": "code",
      "execution_count": null,
      "metadata": {
        "id": "D12v8YdlOyRc"
      },
      "outputs": [],
      "source": [
        "parameters = { 'C':[1]}\n",
        "svc = LinearSVC(max_iter=1500)\n",
        "clf = GridSearchCV(svc, parameters)\n",
        "clf.fit(X_train_pca, y_train)\n",
        "y_predict = clf.predict(X_test_pca)"
      ]
    },
    {
      "cell_type": "markdown",
      "metadata": {
        "id": "k1-9HBkZ0_hB"
      },
      "source": [
        "Per poder fer comparacions directes mostram la mateixa mètrica que amb la xarxa:"
      ]
    },
    {
      "cell_type": "code",
      "execution_count": null,
      "metadata": {
        "colab": {
          "base_uri": "https://localhost:8080/"
        },
        "id": "JIiWWoC3QCp8",
        "outputId": "be107954-402d-4023-b456-9bdd92ecdf26"
      },
      "outputs": [],
      "source": [
        "p = accuracy_score(y_predict, y_test)\n",
        "print(p)"
      ]
    }
  ],
  "metadata": {
    "colab": {
      "collapsed_sections": [],
      "provenance": []
    },
    "gpuClass": "standard",
    "kernelspec": {
      "display_name": "Python 3.9.14 64-bit",
      "language": "python",
      "name": "python3"
    },
    "language_info": {
      "codemirror_mode": {
        "name": "ipython",
        "version": 3
      },
      "file_extension": ".py",
      "mimetype": "text/x-python",
      "name": "python",
      "nbconvert_exporter": "python",
      "pygments_lexer": "ipython3",
      "version": "3.9.14"
    },
    "vscode": {
      "interpreter": {
        "hash": "949777d72b0d2535278d3dc13498b2535136f6dfe0678499012e853ee9abcab1"
      }
    }
  },
  "nbformat": 4,
  "nbformat_minor": 0
}
